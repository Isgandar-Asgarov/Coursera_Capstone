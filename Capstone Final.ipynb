{
 "cells": [
  {
   "cell_type": "markdown",
   "id": "ideal-selling",
   "metadata": {},
   "source": [
    "My project will be to try and find the most gentirifed locations in NY, Toronto, and, if possible, Ottawa. Using the the same methods as in the previous task we can find the most popular venues for every neighbourhood. I plan to exclude all neighbourhoods in which at least three of the top 5 venues are not a coffee shop, a yoga studio, a gym or a restaraunt focusing on foreign food. The remaining neighbourhoods should be fairly similar, so I hope the clustering process will separate the neighbourhoods by the concentration of gentrification-indicating venues."
   ]
  },
  {
   "cell_type": "markdown",
   "id": "julian-prague",
   "metadata": {},
   "source": [
    "My goal is to find neighbourhoods which are in the process of being gentirified, but aren't quite there yet. The clients are the business owners looking to open cofee shops. To avoid too much competition, neighbourhoods with cofee shops as the first and second most popular venues will also be excluded."
   ]
  },
  {
   "cell_type": "markdown",
   "id": "mature-tongue",
   "metadata": {},
   "source": [
    "I'll use existing data for NY and Toronto, for why fix what isn't broken. For Ottawa neighbourhoods I'm betting on Wikipedia.\n",
    "[Neighbourhoods of Ottawa](https://en.wikipedia.org/wiki/List_of_neighbourhoods_in_Ottawa)"
   ]
  },
  {
   "cell_type": "code",
   "execution_count": null,
   "id": "challenging-dream",
   "metadata": {},
   "outputs": [],
   "source": []
  }
 ],
 "metadata": {
  "kernelspec": {
   "display_name": "Python 3",
   "language": "python",
   "name": "python3"
  },
  "language_info": {
   "codemirror_mode": {
    "name": "ipython",
    "version": 3
   },
   "file_extension": ".py",
   "mimetype": "text/x-python",
   "name": "python",
   "nbconvert_exporter": "python",
   "pygments_lexer": "ipython3",
   "version": "3.8.5"
  }
 },
 "nbformat": 4,
 "nbformat_minor": 5
}
